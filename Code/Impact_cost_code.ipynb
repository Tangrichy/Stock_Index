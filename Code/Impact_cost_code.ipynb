{
 "cells": [
  {
   "cell_type": "code",
   "execution_count": null,
   "metadata": {},
   "outputs": [],
   "source": [
    "import hdb\n",
    "import pandas as pd\n",
    "import numpy as np\n",
    "import datetime\n",
    "import matplotlib.pyplot as plt\n",
    "import os"
   ]
  },
  {
   "cell_type": "markdown",
   "metadata": {},
   "source": [
    "## 流程说明\n",
    "\n",
    "1. 获取每天的tick数据\n",
    "    \n",
    "    ``db = hdb.DB(r\"Z:\\hdb_data\")``\n",
    "    ``file = db.open_file(r\"marketdata\\tick_yyyymmdd\", mode=\"r\")``\n",
    "    \n",
    "    注意需要file.close()\n",
    "\n",
    "2. 获取每天的沪深300成分股\n",
    "\n",
    "    ``file.get_codelist(cl_name = \"HS300\").symbols``\n",
    "\n",
    "3. 按照成分股的代获取当天所有成分股的tick数据\n",
    "\n",
    "    ``read_data(f, symbols, data_type, begin=None, end=None)``\n",
    "\n",
    "4. 简单清洗数据\n",
    "\n",
    "    ``data_process(data, select_var)``\n",
    "\n",
    "5. 计算每个tick的数据\n",
    "\n",
    "    固定交易成本50万\n",
    "    \n",
    "    ``each_tick(data, ask_bid)``\n",
    "\n",
    "6. 使用groupby按照股票分类计算每天tick的冲击成本的平均数\n",
    "\n",
    "    ``data.groupby(\"stock_code\")[\"ask\"].mean()``\n",
    "\n",
    "7. 使用流通市值加权\n",
    "\n",
    "    7.1 获取自由流通股数量\n",
    "    \n",
    "    7.2 计算流通市值\n",
    "        \n",
    "        前一天收盘价 乘 自由流通股数量"
   ]
  },
  {
   "cell_type": "code",
   "execution_count": null,
   "metadata": {},
   "outputs": [],
   "source": [
    "# obtain trading date\n",
    "date = pd.read_csv(\"Code_date.csv\")\n",
    "date = date[[\"Date\"]]\n",
    "date = date[\"Date\"].unique().tolist()\n",
    "date = {\"Date\":date}\n",
    "date = pd.DataFrame(date)\n",
    "date[\"Date\"] = pd.to_datetime(date[\"Date\"])\n",
    "date"
   ]
  },
  {
   "cell_type": "code",
   "execution_count": null,
   "metadata": {},
   "outputs": [],
   "source": [
    "date = pd.read_excel(\"trading_date2023.xlsx\")\n",
    "date[\"Date\"] = pd.to_datetime(date[\"Date\"])\n",
    "date"
   ]
  },
  {
   "cell_type": "code",
   "execution_count": null,
   "metadata": {},
   "outputs": [],
   "source": [
    "date[\"date_code\"] = date[\"Date\"].map(lambda x: x.strftime(\"%Y%m%d\"))\n",
    "date"
   ]
  },
  {
   "cell_type": "code",
   "execution_count": null,
   "metadata": {},
   "outputs": [],
   "source": [
    "#将上述过程封装后可以调用read_data\n",
    "def read_data(f, symbols, data_type, begin=None, end=None):\n",
    "    if (begin is None) and (end is None):\n",
    "        task = f.open_read_task(symbols=symbols, types=[data_type])\n",
    "    elif begin is None:\n",
    "        task = f.open_read_task(end_time=end, symbols=symbols, types=[data_type])\n",
    "    elif end is None:\n",
    "        task = f.open_read_task(begin_time=begin, symbols=symbols, types=[data_type])\n",
    "    else:\n",
    "        task = f.open_read_task(begin_time=begin, end_time=end, symbols=symbols, types=[data_type])\n",
    "    items = task.read()\n",
    "    data_type = f.data_types[items['type_id'][0]]\n",
    "    data = data_type.items_data(items['data'])\n",
    "    df = pd.DataFrame()\n",
    "    for name in data_type.dtype.fields:\n",
    "        field_type = data.dtype.fields[name][0]\n",
    "        if 0 == field_type.ndim:\n",
    "            df[name] = data[name]\n",
    "        elif 1 == field_type.ndim:\n",
    "            for idx in range(field_type.shape[0]):\n",
    "                df[name + '.' + str(idx)] = data[name][:, idx]\n",
    "\n",
    "    df['symbol'] = items['symbol']\n",
    "    df['date'] = items['trading_day']\n",
    "    \n",
    "    return df"
   ]
  },
  {
   "cell_type": "code",
   "execution_count": null,
   "metadata": {},
   "outputs": [],
   "source": [
    "var = ['time',  'open', \"pre_close\",'high',  \"low\",'match',\n",
    "       'ask_price.0', 'ask_price.1', 'ask_price.2', 'ask_price.3',\n",
    "       'ask_price.4', 'ask_price.5', 'ask_price.6', 'ask_price.7',\n",
    "       'ask_price.8', 'ask_price.9', 'ask_vol.0', 'ask_vol.1', 'ask_vol.2',\n",
    "       'ask_vol.3', 'ask_vol.4', 'ask_vol.5', 'ask_vol.6', 'ask_vol.7',\n",
    "       'ask_vol.8', 'ask_vol.9', 'bid_price.0', 'bid_price.1', 'bid_price.2',\n",
    "       'bid_price.3', 'bid_price.4', 'bid_price.5', 'bid_price.6',\n",
    "       'bid_price.7', 'bid_price.8', 'bid_price.9', 'bid_vol.0', 'bid_vol.1',\n",
    "       'bid_vol.2', 'bid_vol.3', 'bid_vol.4', 'bid_vol.5', 'bid_vol.6',\n",
    "       'bid_vol.7', 'bid_vol.8', 'bid_vol.9', 'num_trades', 'volume',\n",
    "       'turnover', 'total_bid_vol', 'total_ask_vol', 'high_limited',\n",
    "        'sd2', 'trading_code',\n",
    "         'date', 'stock_code']\n",
    "def data_process(data, select_var = var):\n",
    "    # decode\n",
    "    data['stock_code'] = data['symbol'].map(lambda x: x.decode(\"utf-8\"))\n",
    "    data['trading_code'] = data['trading_phase_code'].map(lambda x: x.decode(\"utf-8\"))\n",
    "    # select variabel\n",
    "    output = data[var]\n",
    "    output = output[output[\"trading_code\"].isin([\"T111\", 'T0      '])]\n",
    "    # process some error value\n",
    "    output = output.query('open != 0')\n",
    "    output = output[output[\"ask_price.0\"] != 0]\n",
    "    output = output[output[\"bid_price.0\"] != 0]\n",
    "    output[\"high_limit\"] = output[\"pre_close\"] * 1.098\n",
    "    output[\"low_limit\"] = output[\"pre_close\"] * 0.92\n",
    "    \n",
    "    return output"
   ]
  },
  {
   "cell_type": "code",
   "execution_count": null,
   "metadata": {},
   "outputs": [],
   "source": [
    "def each_tick_ask(row, ask_bid = \"ask\"):\n",
    "    \n",
    "    if row[\"ask_price.0\"] >= row[\"high_limit\"]:\n",
    "        cost_point = 10\n",
    "    \n",
    "    else:\n",
    "        inital_price = ask_bid + \"_price.0\"\n",
    "        total_money = np.array(row[\"cost\"])\n",
    "\n",
    "        for i in range(0,10):\n",
    "            price_col = ask_bid + \"_price.\" + str(i)\n",
    "            quantity_col = ask_bid + \"_vol.\" + str(i)\n",
    "            price = np.array(row[price_col]) / 10000\n",
    "            quantity = np.array(row[quantity_col])\n",
    "            \n",
    "            if total_money > price and price != 0:\n",
    "                total_money -= price * min(int(quantity), int(total_money // price))\n",
    "                max_price = price\n",
    "                \n",
    "                continue\n",
    "            else:\n",
    "                break\n",
    "            \n",
    "        cost_point = (max_price / (np.array(row[inital_price])/10000) - 1)*100\n",
    "\n",
    "    return cost_point\n",
    "\n",
    "\n",
    "def each_tick_bid(row, ask_bid = \"bid\"):\n",
    "    \n",
    "    if row[\"bid_price.0\"]<= row[\"low_limit\"]:\n",
    "        cost_point = -10\n",
    "    \n",
    "    else:\n",
    "        inital_price = ask_bid + \"_price.0\"\n",
    "        total_money = np.array(row[\"cost\"])\n",
    "        for i in range(0,10):\n",
    "            price_col = ask_bid + \"_price.\" + str(i)\n",
    "            quantity_col = ask_bid + \"_vol.\" + str(i)\n",
    "            price = np.array(row[price_col]) / 10000\n",
    "            quantity = np.array(row[quantity_col])\n",
    "\n",
    "            if total_money > price and price != 0:\n",
    "                total_money -= price * min(int(quantity), int(total_money // price))\n",
    "                max_price = price\n",
    "                continue\n",
    "            else:\n",
    "                break\n",
    "\n",
    "        cost_point = (max_price / (np.array(row[inital_price])/10000) - 1)*100\n",
    "\n",
    "    return -cost_point\n",
    "\n"
   ]
  },
  {
   "cell_type": "code",
   "execution_count": null,
   "metadata": {},
   "outputs": [],
   "source": [
    "# calculate impact cost\n",
    "def impact_cost(data):\n",
    "    \n",
    "    daily_ask = data.groupby([\"stock_code\", \"pre_close\"])[\"ask\"].mean()\n",
    "    daily_bid = data.groupby([\"stock_code\", \"pre_close\"])[\"bid\"].mean()\n",
    "    \n",
    "    output = pd.concat([daily_ask, daily_bid], axis = 1)\n",
    "    output = output.reset_index()\n",
    "    output[\"pre_close\"] = output[\"pre_close\"]/ 10000\n",
    "    \n",
    "    return output"
   ]
  },
  {
   "cell_type": "code",
   "execution_count": null,
   "metadata": {},
   "outputs": [],
   "source": [
    "def find_captial(f, stock_index):\n",
    "    location = f.codetable.symbols\n",
    "    \n",
    "    location_index = []\n",
    "    for i in stock_index:\n",
    "        if i in location:\n",
    "            location_index.append(location.index(i))\n",
    "    \n",
    "    codetable_pd = pd.DataFrame(f.ci_type.items_data(file.codetable.data))\n",
    "    captial_list = codetable_pd.loc[location_index,\"capital\"]\n",
    "    captial = {\"stock_code\":stock_index, \"capital\": captial_list}\n",
    "    captial = pd.DataFrame(captial)\n",
    "    \n",
    "    return captial"
   ]
  },
  {
   "cell_type": "markdown",
   "metadata": {},
   "source": [
    "## 循环"
   ]
  },
  {
   "cell_type": "code",
   "execution_count": null,
   "metadata": {
    "scrolled": true
   },
   "outputs": [],
   "source": [
    "date_2017 = date[date[\"Date\"] >= \"2023-04-01\"]\n",
    "date_2017 = date_2017[date_2017[\"Date\"] < \"2023-07-01\"]\n",
    "date_2017 = date_2017[\"date_code\"]\n",
    "date_2017"
   ]
  },
  {
   "cell_type": "code",
   "execution_count": null,
   "metadata": {},
   "outputs": [],
   "source": [
    "ask_list = []\n",
    "bid_list = []"
   ]
  },
  {
   "cell_type": "code",
   "execution_count": null,
   "metadata": {
    "scrolled": true
   },
   "outputs": [],
   "source": [
    "for i in date_2017:\n",
    "    db = hdb.DB(r\"Z:\\hdb_data\")\n",
    "    temp_file = str(\"marketdata/tick_\") + i\n",
    "    file = db.open_file(temp_file, mode=\"r\")\n",
    "    print(\"Star\", i)\n",
    "    index_comp_list = file.get_codelist(cl_name = \"HS300\").symbols\n",
    "    \n",
    "    data = read_data(file, \n",
    "                 begin = datetime.datetime(int(i[0:4]) , int(i[4:6]),int(i[6:8]), 9, 30), \n",
    "                 end = datetime.datetime(int(i[0:4]), int(i[4:6]), int(i[6:8]), 14, 57), # 集合竞价开始于14：57 \n",
    "                 symbols = index_comp_list, \n",
    "                 data_type = \"SecurityTick\")\n",
    "    captial = find_captial(f = file, stock_index = index_comp_list)\n",
    "    file.close()\n",
    "    \n",
    "    data = data_process(data = data)\n",
    "    data[\"cost\"] = 500000.00\n",
    "    \n",
    "    data[\"ask\"] = data.apply(each_tick_ask,axis = 1)\n",
    "    data[\"bid\"] = data.apply(each_tick_bid,axis = 1)\n",
    "    \n",
    "    data_daily = impact_cost(data = data)\n",
    "    \n",
    "    stock_captial = data_daily.merge(captial, on = \"stock_code\")\n",
    "    stock_captial[\"free_market\"] = (stock_captial[\"pre_close\"]/10000)*stock_captial[\"capital\"]\n",
    "    ask = np.average(stock_captial[\"ask\"], weights = stock_captial[\"free_market\"])\n",
    "    bid = np.average(stock_captial[\"bid\"], weights = stock_captial[\"free_market\"])\n",
    "    ask_list.append(ask)\n",
    "    bid_list.append(bid) \n",
    "    print(\"complet\", i)"
   ]
  },
  {
   "cell_type": "code",
   "execution_count": null,
   "metadata": {},
   "outputs": [],
   "source": [
    "len(ask_list)"
   ]
  },
  {
   "cell_type": "code",
   "execution_count": null,
   "metadata": {},
   "outputs": [],
   "source": [
    "date_2017 = date[date[\"Date\"] >= \"2021-06-01\"]\n",
    "date_2017 = date_2017[date_2017[\"Date\"] < \"2022-01-01\"]\n",
    "date_2017 = date_2017[\"Date\"]\n",
    "date_2017"
   ]
  },
  {
   "cell_type": "code",
   "execution_count": null,
   "metadata": {
    "scrolled": true
   },
   "outputs": [],
   "source": [
    "df = {\"Date\":date_2017, \"Ask\": ask_list, \"Bid\": bid_list}\n",
    "df = pd.DataFrame(df)\n",
    "df = df.set_index(\"Date\")\n",
    "df"
   ]
  }
 ],
 "metadata": {
  "kernelspec": {
   "display_name": "Python 3",
   "language": "python",
   "name": "python3"
  },
  "language_info": {
   "codemirror_mode": {
    "name": "ipython",
    "version": 3
   },
   "file_extension": ".py",
   "mimetype": "text/x-python",
   "name": "python",
   "nbconvert_exporter": "python",
   "pygments_lexer": "ipython3",
   "version": "3.11.1"
  }
 },
 "nbformat": 4,
 "nbformat_minor": 4
}
